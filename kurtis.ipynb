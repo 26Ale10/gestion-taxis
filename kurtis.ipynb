{
 "cells": [
  {
   "cell_type": "code",
   "execution_count": 2,
   "id": "6c39a5d2-0dc8-4fb0-af19-b1211ec25be8",
   "metadata": {},
   "outputs": [],
   "source": [
    "driver_data = {}\n",
    "trip_data = []\n"
   ]
  },
  {
   "cell_type": "code",
   "execution_count": 3,
   "id": "4a6019ff-114a-4727-ade8-94775676f803",
   "metadata": {},
   "outputs": [
    {
     "data": {
      "text/plain": [
       "[{'full_name': 'Juan Vargas', 'contact_number': 123456789, 'total_trips': 53},\n",
       " {'full_name': 'David Romero',\n",
       "  'contact_number': 345679821,\n",
       "  'total_trips': 105}]"
      ]
     },
     "execution_count": 3,
     "metadata": {},
     "output_type": "execute_result"
    }
   ],
   "source": [
    "driver_data = [{\"nombre\": \"Juan Vargas\", \"number\": 123456789, \"numero_de_viajes\": 53 }, {\"full_name\": \"David Romero\", \"contact_number\": 345679821, \"total_trips\": 105}]\n",
    "driver_data\n"
   ]
  },
  {
   "cell_type": "code",
   "execution_count": 4,
   "id": "c75261bd-d76c-4f1e-a0cd-fbf0ad9e0d4f",
   "metadata": {},
   "outputs": [],
   "source": [
    "trip_data.append({\"trip_id\": 101, \"driver_id\": 1, \"customer_name\": \"Cliente A\", \"distance\": 10.5, \"fare\": 15.75})"
   ]
  },
  {
   "cell_type": "code",
   "execution_count": 10,
   "id": "916a85b1-5b3f-4c17-a12a-406d39ddc1b8",
   "metadata": {},
   "outputs": [
    {
     "name": "stdin",
     "output_type": "stream",
     "text": [
      "Nombre completo:  Kurtis\n",
      "Número de teléfono:  123\n",
      "Número de viajes relizados:  15\n"
     ]
    }
   ],
   "source": [
    "#Creaciòn de nuevos conductores\n",
    "\n",
    "nombre = input(\"Nombre completo: \")\n",
    "number = int(input(\"Número de teléfono: \"))\n",
    "numero_de_viajes = int(input(\"Número de viajes realizados: \"))\n",
    "\n",
    "driver_data.append(nombre"
   ]
  },
  {
   "cell_type": "code",
   "execution_count": 7,
   "id": "a61562b5-9ad4-46e5-9f3c-413fd513cc47",
   "metadata": {},
   "outputs": [
    {
     "data": {
      "text/plain": [
       "'Kurtis Walton'"
      ]
     },
     "execution_count": 7,
     "metadata": {},
     "output_type": "execute_result"
    }
   ],
   "source": [
    "nombre"
   ]
  },
  {
   "cell_type": "code",
   "execution_count": null,
   "id": "8ddf5d42-41cf-4e76-8b4d-a629b8d66989",
   "metadata": {},
   "outputs": [],
   "source": []
  }
 ],
 "metadata": {
  "kernelspec": {
   "display_name": "Python 3 (ipykernel)",
   "language": "python",
   "name": "python3"
  },
  "language_info": {
   "codemirror_mode": {
    "name": "ipython",
    "version": 3
   },
   "file_extension": ".py",
   "mimetype": "text/x-python",
   "name": "python",
   "nbconvert_exporter": "python",
   "pygments_lexer": "ipython3",
   "version": "3.9.6"
  }
 },
 "nbformat": 4,
 "nbformat_minor": 5
}
