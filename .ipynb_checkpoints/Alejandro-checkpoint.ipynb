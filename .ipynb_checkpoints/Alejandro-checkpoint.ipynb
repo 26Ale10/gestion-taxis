{
 "cells": [
  {
   "cell_type": "code",
   "execution_count": 15,
   "id": "a275c9d1-8356-4859-8121-2f1572cf3fa1",
   "metadata": {},
   "outputs": [],
   "source": [
    "# Inicializar diccionarios y listas para almacenar datos de conductores y viajes\n",
    "driver_data = {}\n",
    "trip_data = []"
   ]
  },
  {
   "cell_type": "code",
   "execution_count": 16,
   "id": "ca714395-ed27-4697-b9ad-8f8201dbb4f8",
   "metadata": {},
   "outputs": [],
   "source": [
    "# Crear una lista para almacenar la información sobre los viajes\n",
    "trip_data.append({\"id\": 1,\"id_conductor\": 1,\"nombre_cliente\": \"Ana García\",\"distancia en km\": 10,\"tarifa\": 15})\n",
    "driver_data = [{\"full_name\": \"Juan Vargas\", \"contact_number\": 123456789, \"total_trips\": 53 }, {\"full_name\": \"David Romero\", \"contact_number\": 345679821, \"total_trips\": 105}]"
   ]
  },
  {
   "cell_type": "code",
   "execution_count": 18,
   "id": "e3ff8a0c-7772-46a5-9890-185418d237f7",
   "metadata": {},
   "outputs": [
    {
     "name": "stdout",
     "output_type": "stream",
     "text": [
      "<class 'list'>\n",
      "[{'id': 1, 'id_conductor': 1, 'nombre_cliente': 'Ana García', 'distancia en km': 10, 'tarifa': 15}]\n",
      "[{'full_name': 'Juan Vargas', 'contact_number': 123456789, 'total_trips': 53}, {'full_name': 'David Romero', 'contact_number': 345679821, 'total_trips': 105}]\n"
     ]
    }
   ],
   "source": [
    "print(type(trip_data))\n",
    "print(trip_data)\n",
    "print(driver_data)\n"
   ]
  },
  {
   "cell_type": "code",
   "execution_count": 21,
   "id": "d98858d9-24ae-4323-9979-ec3201de4676",
   "metadata": {},
   "outputs": [
    {
     "name": "stdin",
     "output_type": "stream",
     "text": [
      "Nombre completo:  aleajda\n"
     ]
    }
   ],
   "source": [
    "# Creación de nuevos conductores:\n",
    "nombre = input(\"Nombre completo: \")\n",
    "number = int(input(\"Número de telefono: \"))\n",
    "numero_de_viajes = int(input(\"Número de viajes realizados: \"))\n",
    "\n",
    "driver_data.append"
   ]
  },
  {
   "cell_type": "code",
   "execution_count": 20,
   "id": "38a6a70a-3284-46b7-8530-c2cf74228c88",
   "metadata": {},
   "outputs": [
    {
     "data": {
      "text/plain": [
       "'Alejandro villegas'"
      ]
     },
     "execution_count": 20,
     "metadata": {},
     "output_type": "execute_result"
    }
   ],
   "source": [
    "nombre"
   ]
  },
  {
   "cell_type": "code",
   "execution_count": null,
   "id": "a18b8379-12dc-40dd-8e11-11c1c2454f51",
   "metadata": {},
   "outputs": [],
   "source": []
  }
 ],
 "metadata": {
  "kernelspec": {
   "display_name": "Python 3 (ipykernel)",
   "language": "python",
   "name": "python3"
  },
  "language_info": {
   "codemirror_mode": {
    "name": "ipython",
    "version": 3
   },
   "file_extension": ".py",
   "mimetype": "text/x-python",
   "name": "python",
   "nbconvert_exporter": "python",
   "pygments_lexer": "ipython3",
   "version": "3.10.12"
  }
 },
 "nbformat": 4,
 "nbformat_minor": 5
}
