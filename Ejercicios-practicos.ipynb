{
 "cells": [
  {
   "cell_type": "markdown",
   "id": "79df2a87-5a4b-4026-aac7-a8320951580a",
   "metadata": {},
   "source": [
    "En este ejemplo, utilizamos un bucle \"while\" para solicitar repetidamente al usuario que ingrese una opción hasta que proporcione una opción válida. El objetivo es asegurar que la entrada del usuario esté dentro de un rango específico de valores aceptados.\n",
    "\n",
    "**Conceptos Clave:**\n",
    "- Entrada del Usuario: Le pedimos al usuario que ingrese una letra.\n",
    "- Validación: Queremos asegurarnos de que la letra ingresada sea una de las opciones aceptadas (en este caso, letras entre 'a' y 'd').\n",
    "- Bucle \"while\": Utilizamos un bucle \"while\" para seguir pidiendo la entrada hasta que se proporcione una opción válida.\n",
    "\n",
    "**Explicación:**\n",
    "\n",
    "1. Inicialmente le pedimos al usuario que ingrese una letra usando la función `input`. La entrada se almacena en la variable `letra`.\n",
    "\n",
    "2. Creamos una lista llamada `letras_aceptadas` que contiene las opciones válidas, que son \"a\", \"b\", \"c\" y \"d\".\n",
    "\n",
    "3. Usando un bucle \"while\", verificamos si la `letra` ingresada no está en la lista de `letras_aceptadas`. Si no lo está, el bucle continúa ejecutándose.\n",
    "\n",
    "4. Dentro del bucle, volvemos a pedir al usuario que ingrese una letra, reasignando el valor a la variable `letra`. Este proceso se repite hasta que el usuario proporciona una opción válida.\n",
    "\n",
    "5. Una vez que el usuario ingresa una letra dentro del rango aceptado, el bucle termina y el programa procede a los siguientes pasos o acciones.\n",
    "\n",
    "Este ejemplo demuestra cómo crear un mecanismo simple de validación de entrada de usuario utilizando un bucle \"while\". Asegura que la entrada del usuario cumpla con criterios especificados antes de avanzar con la ejecución del programa.\n",
    "\n",
    "### Desafío Empresarial: Identificar Oportunidades de Inversión Rentables\n",
    "\n",
    "**Tarea:** Escribe un programa en Python para ayudar a un analista financiero a identificar oportunidades de inversión potencialmente rentables basadas en datos históricos.\n",
    "\n",
    "**Instrucciones:**\n",
    "\n",
    "0. **Primero que todo, proporciona el pseudocódigo de este ejercicio.**\n",
    "1. Pide al usuario que ingrese dos enteros: el número de oportunidades de inversión para analizar y el margen de beneficio mínimo aceptable (como porcentaje).\n",
    "2. Para cada oportunidad de inversión, solicita al usuario que ingrese el nombre de la inversión y su margen de beneficio asociado (como porcentaje).\n",
    "3. Verifica e imprime los nombres de las oportunidades de inversión que cumplan o superen el margen de beneficio mínimo aceptable.\n",
    "4. Asegúrate de que el usuario ingrese un número válido de oportunidades y un margen de beneficio válido.\n",
    "5. Utiliza un bucle for para iterar a través de cada oportunidad de inversión.\n",
    "6. Implementa una condición para verificar si el margen de beneficio es mayor o igual al margen aceptable mínimo.\n",
    "7. Imprime los nombres de las oportunidades de inversión rentables.\n",
    "\n",
    "**Consejos:**\n",
    "\n",
    "- Asegúrate de que el usuario ingrese un número válido de oportunidades de inversión y margen de beneficio (ambos deben ser positivos).\n",
    "- Utiliza cadenas formateadas para mostrar los resultados claramente.\n",
    "\n",
    "**Ejemplo de Salida:**\n",
    "\n",
    "```python\n",
    "¡Bienvenido al Analizador de Oportunidades de Inversión!\n",
    "Por favor, introduce el número de oportunidades de inversión: 3\n",
    "Por favor, introduce el margen de beneficio mínimo aceptable (como porcentaje): 10\n",
    "\n",
    "Introduce los detalles de la oportunidad de inversión 1:\n",
    "Nombre de la Inversión: Stock XYZ\n",
    "Margen de Beneficio (como porcentaje): 15\n",
    "\n",
    "Introduce los detalles de la oportunidad de inversión 2:\n",
    "Nombre de la Inversión: Proyecto Inmobiliario\n",
    "Margen de Beneficio (como porcentaje): 8\n",
    "\n",
    "Introduce los detalles de la oportunidad de inversión 3:\n",
    "Nombre de la Inversión: Startup Tecnológica\n",
    "Margen de Beneficio (como porcentaje): 12\n",
    "\n",
    "Oportunidades de inversión rentables (con un margen de beneficio del 10% o superior):\n",
    "1. Stock XYZ\n",
    "3. Startup Tecnológica\n",
    "```"
   ]
  },
  {
   "cell_type": "code",
   "execution_count": 2,
   "id": "dd99ba84-937a-4467-b632-c5f88c71eef1",
   "metadata": {},
   "outputs": [
    {
     "name": "stdout",
     "output_type": "stream",
     "text": [
      "Welcome to the Investment Opportunity Analyzer!\n"
     ]
    },
    {
     "name": "stdin",
     "output_type": "stream",
     "text": [
      "Please enter the number of investment opportunities:  2\n",
      "Please enter the minimum acceptable profit margin (as a percentage):  5\n"
     ]
    },
    {
     "name": "stdout",
     "output_type": "stream",
     "text": [
      "\n",
      "Enter details for investment opportunity 1:\n"
     ]
    },
    {
     "name": "stdin",
     "output_type": "stream",
     "text": [
      "Investment Name:  ABC\n",
      "Profit Margin (as a percentage):  2\n"
     ]
    },
    {
     "name": "stdout",
     "output_type": "stream",
     "text": [
      "\n",
      "Enter details for investment opportunity 2:\n"
     ]
    },
    {
     "name": "stdin",
     "output_type": "stream",
     "text": [
      "Investment Name:  ITC\n",
      "Profit Margin (as a percentage):  5\n"
     ]
    },
    {
     "name": "stdout",
     "output_type": "stream",
     "text": [
      "\n",
      "Profitable investment opportunities (with a profit margin of 5.0% or higher):\n",
      "1. ITC\n"
     ]
    }
   ],
   "source": [
    "## Business Challenge: Identify Profitable Investment Opportunities\n",
    "\n",
    "# Welcome message\n",
    "print(\"Welcome to the Investment Opportunity Analyzer!\")\n",
    "\n",
    "# Input validation using a while loop\n",
    "num_opportunities = int(input(\"Please enter the number of investment opportunities: \"))\n",
    "profit_margin = float(input(\"Please enter the minimum acceptable profit margin (as a percentage): \"))\n",
    "\n",
    "# Initialize a list to store profitable opportunities\n",
    "profitable_opportunities = []\n",
    "\n",
    "# Gather details for each investment opportunity\n",
    "for i in range(1, num_opportunities + 1):\n",
    "    print(f\"\\nEnter details for investment opportunity {i}:\")\n",
    "    investment_name = input(\"Investment Name: \")\n",
    "    investment_margin = float(input(\"Profit Margin (as a percentage): \"))\n",
    "    \n",
    "    # Check if the profit margin meets or exceeds the minimum acceptable margin\n",
    "    if investment_margin >= profit_margin:\n",
    "        profitable_opportunities.append(investment_name)\n",
    "\n",
    "# Print profitable investment opportunities\n",
    "if profitable_opportunities:\n",
    "    print(\"\\nProfitable investment opportunities (with a profit margin of \"\n",
    "          f\"{profit_margin}% or higher):\")\n",
    "    for idx, opportunity in enumerate(profitable_opportunities, start=1):\n",
    "        print(f\"{idx}. {opportunity}\")\n",
    "else:\n",
    "    print(\"\\nNo profitable investment opportunities found.\")"
   ]
  },
  {
   "cell_type": "code",
   "execution_count": 1,
   "id": "6614413d-03af-44a7-b27b-e9cf379a5daa",
   "metadata": {},
   "outputs": [],
   "source": [
    "### Crear driver data"
   ]
  },
  {
   "cell_type": "code",
   "execution_count": 2,
   "id": "1e95cf1e-9162-4492-9710-0ac535c7deb2",
   "metadata": {},
   "outputs": [
    {
     "data": {
      "text/plain": [
       "[{'nombre': 'Juan Vargas', 'number': 123456789, 'numero_de_viajes': 53},\n",
       " {'full_name': 'David Romero',\n",
       "  'contact_number': 345679821,\n",
       "  'total_trips': 105}]"
      ]
     },
     "execution_count": 2,
     "metadata": {},
     "output_type": "execute_result"
    }
   ],
   "source": [
    "driver_data = [{\"nombre\": \"Juan Vargas\", \"number\": 123456789, \"numero_de_viajes\": 53 }, {\"full_name\": \"David Romero\", \"contact_number\": 345679821, \"total_trips\": 105}]\n",
    "driver_data"
   ]
  },
  {
   "cell_type": "code",
   "execution_count": null,
   "id": "9cf21874-ac0f-4035-8403-c1736f1d16b4",
   "metadata": {},
   "outputs": [],
   "source": []
  }
 ],
 "metadata": {
  "kernelspec": {
   "display_name": "Python 3 (ipykernel)",
   "language": "python",
   "name": "python3"
  },
  "language_info": {
   "codemirror_mode": {
    "name": "ipython",
    "version": 3
   },
   "file_extension": ".py",
   "mimetype": "text/x-python",
   "name": "python",
   "nbconvert_exporter": "python",
   "pygments_lexer": "ipython3",
   "version": "3.9.6"
  }
 },
 "nbformat": 4,
 "nbformat_minor": 5
}
