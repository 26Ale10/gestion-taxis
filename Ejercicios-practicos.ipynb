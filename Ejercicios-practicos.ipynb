{
 "cells": [
  {
   "cell_type": "code",
   "execution_count": null,
   "id": "c0f58001-1041-4fbd-9dd1-19b9ba4044e6",
   "metadata": {},
   "outputs": [],
   "source": []
  },
  {
   "cell_type": "code",
   "execution_count": null,
   "id": "dd99ba84-937a-4467-b632-c5f88c71eef1",
   "metadata": {},
   "outputs": [],
   "source": []
  },
  {
   "cell_type": "code",
   "execution_count": 1,
   "id": "6614413d-03af-44a7-b27b-e9cf379a5daa",
   "metadata": {},
   "outputs": [],
   "source": [
    "### Crear driver data"
   ]
  },
  {
   "cell_type": "code",
   "execution_count": 2,
   "id": "1e95cf1e-9162-4492-9710-0ac535c7deb2",
   "metadata": {},
   "outputs": [
    {
     "data": {
      "text/plain": [
       "[{'nombre': 'Juan Vargas', 'number': 123456789, 'numero_de_viajes': 53},\n",
       " {'full_name': 'David Romero',\n",
       "  'contact_number': 345679821,\n",
       "  'total_trips': 105}]"
      ]
     },
     "execution_count": 2,
     "metadata": {},
     "output_type": "execute_result"
    }
   ],
   "source": [
    "driver_data = [{\"nombre\": \"Juan Vargas\", \"number\": 123456789, \"numero_de_viajes\": 53 }, {\"full_name\": \"David Romero\", \"contact_number\": 345679821, \"total_trips\": 105}]\n",
    "driver_data"
   ]
  },
  {
   "cell_type": "code",
   "execution_count": null,
   "id": "9cf21874-ac0f-4035-8403-c1736f1d16b4",
   "metadata": {},
   "outputs": [],
   "source": []
  }
 ],
 "metadata": {
  "kernelspec": {
   "display_name": "Python 3 (ipykernel)",
   "language": "python",
   "name": "python3"
  },
  "language_info": {
   "codemirror_mode": {
    "name": "ipython",
    "version": 3
   },
   "file_extension": ".py",
   "mimetype": "text/x-python",
   "name": "python",
   "nbconvert_exporter": "python",
   "pygments_lexer": "ipython3",
   "version": "3.9.6"
  }
 },
 "nbformat": 4,
 "nbformat_minor": 5
}
